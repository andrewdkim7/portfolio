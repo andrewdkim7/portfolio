{
  "nbformat": 4,
  "nbformat_minor": 0,
  "metadata": {
    "colab": {
      "provenance": []
    },
    "kernelspec": {
      "name": "python3",
      "display_name": "Python 3"
    },
    "language_info": {
      "name": "python"
    }
  },
  "cells": [
    {
      "cell_type": "markdown",
      "source": [
        "# Letterboxd Film Page Web Scraping\n",
        "\n",
        "For my SQL project analyzing my film viewership and rating trends in the Letterboxd app, I needed descriptive data about each film I had rated.\n",
        "\n",
        "Below, I use Beautiful Soup to scrape the Letterboxd webpage of each film on my ratings list for cast/crew information, universal ratings, genres, etc. I compile this data into separate CSV files for [**analysis in SQL**](https://github.com/andrewdkim7/portfolio/blob/165ad768ab75cb870a159fec8d5a97b22f2ef01e/SQL/LetterboxdSQLAnalysis.ipynb)."
      ],
      "metadata": {
        "id": "zooeIJkI4Ul7"
      }
    },
    {
      "cell_type": "code",
      "execution_count": 1,
      "metadata": {
        "id": "IG86Uhe6EvPn"
      },
      "outputs": [],
      "source": [
        "import pandas as pd\n",
        "\n",
        "# import my personal letterboxd ratings csv\n",
        "myratings = pd.read_csv('myratings.csv')"
      ]
    },
    {
      "cell_type": "code",
      "source": [
        "import requests\n",
        "from bs4 import BeautifulSoup\n",
        "import re\n",
        "\n",
        "# create lists to populate scraped data\n",
        "directors = []\n",
        "cast = []\n",
        "studios = []\n",
        "length = []\n",
        "genres = []\n",
        "rating = []\n",
        "ratingcount = []\n",
        "\n",
        "# iterate through each movie i've rated on letterboxd\n",
        "for url in myratings['Letterboxd URI']:\n",
        "\n",
        "  # request letterboxd movie page and create soup object\n",
        "  r = requests.get(url)\n",
        "  soup = BeautifulSoup(r.content, 'html.parser')\n",
        "\n",
        "  # unique id from url\n",
        "  url_id = url.split('/')[-1]\n",
        "\n",
        "  # title\n",
        "  title = soup.select('.js-widont')[0].text\n",
        "\n",
        "  # directors\n",
        "  directors.extend([(url_id, title, director.text) for director in soup.select('.directorlist span')])\n",
        "\n",
        "  # cast\n",
        "  ncast = [(url_id, title, actor.text) for actor in soup.select('#tab-cast a')]\n",
        "  if (url_id, title,'Show All…') in ncast:\n",
        "    ncast.remove((url_id, title,'Show All…'))\n",
        "  cast.extend(ncast)\n",
        "\n",
        "  # studios\n",
        "  nstudiostag = soup.select_one('#tab-details .text-sluglist p')\n",
        "  studios.extend([(url_id, title, studio.text) for studio in nstudiostag.select('a')])\n",
        "\n",
        "  # length in minutes\n",
        "  nlength = int(soup.select('.col-10 .text-footer')[0].text.split()[0])\n",
        "  length.append((url_id, title, nlength))\n",
        "\n",
        "  # genres\n",
        "  ngenrestag = soup.select_one('#tab-genres .text-sluglist p')\n",
        "  genres.extend([(url_id, title, genre.text) for genre in ngenrestag.select('a')])\n",
        "\n",
        "  # rating out of 5 stars\n",
        "  nrating = float(soup.find('meta', {'name': 'twitter:data2'})['content'][:4])\n",
        "  rating.append((url_id, title, nrating))\n",
        "\n",
        "  # number of ratings\n",
        "  ratingcountre = re.search('\"ratingCount\":[0-9]+', str(soup.find('script', {'type': 'application/ld+json'})))\n",
        "  ratingcount.append((url_id, title, int(ratingcountre[0].split(':')[-1])))"
      ],
      "metadata": {
        "id": "UxLsxPxC4Q6r"
      },
      "execution_count": 2,
      "outputs": []
    },
    {
      "cell_type": "code",
      "source": [
        "# create dataframes from lists\n",
        "directorsdf = pd.DataFrame(directors, columns = ['url_id', 'title', 'director'])\n",
        "castdf = pd.DataFrame(cast, columns = ['url_id', 'title', 'actor'])\n",
        "studiosdf = pd.DataFrame(studios, columns = ['url_id', 'title', 'studio'])\n",
        "lengthdf = pd.DataFrame(length, columns = ['url_id', 'title', 'length'])\n",
        "genresdf = pd.DataFrame(genres, columns = ['url_id', 'title', 'genre'])\n",
        "ratingdf = pd.DataFrame(rating, columns = ['url_id', 'title', 'rating'])\n",
        "ratingcountdf = pd.DataFrame(ratingcount, columns = ['url_id', 'title', 'rating_count'])"
      ],
      "metadata": {
        "id": "RNwbRHD1sttL"
      },
      "execution_count": 3,
      "outputs": []
    },
    {
      "cell_type": "code",
      "source": [
        "# export as csv files for analysis in sql\n",
        "directorsdf.to_csv('directors.csv')\n",
        "castdf.to_csv('cast.csv')\n",
        "studiosdf.to_csv('studios.csv')\n",
        "lengthdf.to_csv('length.csv')\n",
        "genresdf.to_csv('genres.csv')\n",
        "ratingdf.to_csv('rating.csv')\n",
        "ratingcountdf.to_csv('ratingcount.csv')"
      ],
      "metadata": {
        "id": "eKEOmVQz03WL"
      },
      "execution_count": 4,
      "outputs": []
    }
  ]
}

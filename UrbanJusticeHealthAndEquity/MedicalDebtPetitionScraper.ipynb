{
  "cells": [
    {
      "cell_type": "code",
      "execution_count": null,
      "metadata": {
        "id": "Z52gqZY5CV3T"
      },
      "outputs": [],
      "source": [
        "pip install undetected-chromedriver"
      ]
    },
    {
      "cell_type": "code",
      "execution_count": null,
      "metadata": {
        "id": "MgsPHImhMCxG"
      },
      "outputs": [],
      "source": [
        "import pandas as pd\n",
        "\n",
        "# load CSV of civil case numbers, with first row as column name\n",
        "casenumspd = pd.read_csv('/Users/andrew/Desktop/casenums.csv')\n",
        "# convert sheet to list \"casenums\"\n",
        "casenums = casenumspd.iloc[:, 0].tolist()"
      ]
    },
    {
      "cell_type": "code",
      "execution_count": null,
      "metadata": {
        "id": "xfqC_X9GDRpK"
      },
      "outputs": [],
      "source": [
        "import undetected_chromedriver as uc\n",
        "from selenium.webdriver.common.by import By\n",
        "from selenium.webdriver.support.ui import WebDriverWait\n",
        "from selenium.webdriver.support import expected_conditions as EC\n",
        "\n",
        "driver = uc.Chrome(headless=False, use_subprocess=False)\n",
        "driver.get('https://jpodysseyportal.harriscountytx.gov/OdysseyPortalJP/Home/Dashboard/29')\n",
        "\n",
        "for casenum in casenums:\n",
        "    # wait for page to load\n",
        "    WebDriverWait(driver, 15).until(EC.element_to_be_clickable((By.ID, 'caseCriteria_SearchCriteria')))\n",
        "    # input case number to search\n",
        "    driver.find_element(By.ID, 'caseCriteria_SearchCriteria').clear()\n",
        "    driver.find_element(By.ID, 'caseCriteria_SearchCriteria').send_keys(casenum)\n",
        "    # await user input after reCAPTCHA\n",
        "    input()\n",
        "    # click search button\n",
        "    driver.find_element(By.NAME, 'Search').click()\n",
        "    # click case\n",
        "    WebDriverWait(driver, 15).until(EC.element_to_be_clickable((By.CLASS_NAME, 'caseLink')))\n",
        "    driver.find_element(By.CLASS_NAME, 'caseLink').click()\n",
        "    # find documents section\n",
        "    docheader = WebDriverWait(driver, 15).until(\n",
        "    EC.presence_of_element_located((By.XPATH, \"//h1[contains(text(), 'Events and Hearings')]\")))\n",
        "    # view first document (original petition)\n",
        "    doclink = docheader.find_element(By.XPATH, \"following::a[1]\").get_attribute('href')\n",
        "    driver.get(doclink)\n",
        "    # click download document button\n",
        "    WebDriverWait(driver, 15).until(EC.element_to_be_clickable((By.CLASS_NAME, 'btn-primary')))\n",
        "    driver.find_element(By.CLASS_NAME, 'btn-primary').click()\n",
        "    # go back to search\n",
        "    driver.get('https://jpodysseyportal.harriscountytx.gov/OdysseyPortalJP/Home/Dashboard/29')"
      ]
    }
  ],
  "metadata": {
    "colab": {
      "provenance": []
    },
    "kernelspec": {
      "display_name": "Python 3",
      "name": "python3"
    },
    "language_info": {
      "name": "python"
    }
  },
  "nbformat": 4,
  "nbformat_minor": 0
}
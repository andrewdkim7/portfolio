{
    "metadata": {
        "kernelspec": {
            "name": "SQL",
            "display_name": "SQL",
            "language": "sql"
        },
        "language_info": {
            "name": "sql",
            "version": ""
        }
    },
    "nbformat_minor": 2,
    "nbformat": 4,
    "cells": [
        {
            "cell_type": "markdown",
            "source": [
                "# **Letterboxd Rating SQL Analysis**\n",
                "\n",
                "I've rated many dozens of films in [**Letterboxd**](https://letterboxd.com), the film rating and review social platform. But with all of this meticulous cataloguing, I'm curious to know if my ratings can teach me a few things about my film-enjoying habits:\n",
                "\n",
                "**1\\. Am I rating films regularly and reliably?**\n",
                "\n",
                "**2\\. How do my film ratings compare with the Letterboxd community at large?**\n",
                "\n",
                "**3\\. Can my ratings reveal characteristics of films that I should seek out — or avoid — when finding new films to watch?**\n",
                "\n",
                "<span style=\"font-family: -apple-system, BlinkMacSystemFont, sans-serif; color: var(--vscode-foreground);\">Below, I employ <b>PostgreSQL</b> queries to answer these questions and get a stronger understanding of my film taste.</span>\n",
                "\n",
                "All tables used were created by importing CSV files into pgAdmin on my desktop. I downloaded the data for myratings directly from my Letterboxd account, each row comprising a film title, the year of its release, its Letterboxd page URL, the day of my rating, and my rating out of five stars. <span style=\"font-family: -apple-system, BlinkMacSystemFont, sans-serif; color: var(--vscode-foreground);\">I web scraped the 171 Letterboxd film pages for the films I had rated to source the data in the&nbsp;</span>  <span style=\"font-family: -apple-system, BlinkMacSystemFont, sans-serif; color: var(--vscode-foreground);\">actors, directors, genres, lbrating (Letterboxd universal user rating), length, ratingcount, and studios tables. Each row in these tables lists the film ID (derived from its unique Letterboxd URL), film title, and associated variable of interest.</span> [**See my web scraping with Python here.**](https://github.com/andrewdkim7/portfolio/blob/c1bfea132a942d81b43c5a08284fb7a669eaa10b/Python/LetterboxdWebScraping.ipynb)"
            ],
            "metadata": {
                "language": "sql",
                "azdata_cell_guid": "79031020-0353-4e5b-afa9-598babbda43b"
            },
            "attachments": {}
        },
        {
            "cell_type": "markdown",
            "source": [
                "## But first, some data cleaning.\n",
                "\n",
                "In order to join my myratings table with others, I create a uniform url\\_id variable — the last three to four characters in each film's Letterboxd page URL."
            ],
            "metadata": {
                "language": "sql",
                "azdata_cell_guid": "7d6ebc1a-75c3-4d68-9452-a250913016db"
            },
            "attachments": {}
        },
        {
            "cell_type": "code",
            "source": [
                "ALTER TABLE myratings\n",
                "ADD COLUMN IF NOT EXISTS url_id VARCHAR;\n",
                "\n",
                "UPDATE myratings\n",
                "SET url_id = SPLIT_PART(url, '/', 4);"
            ],
            "metadata": {
                "azdata_cell_guid": "cc0582b8-6052-4e81-9928-8de580f97482",
                "language": "sql",
                "tags": []
            },
            "outputs": [
                {
                    "output_type": "display_data",
                    "data": {
                        "text/html": "NOTICE: column \"url_id\" of relation \"myratings\" already exists, skipping"
                    },
                    "metadata": {}
                },
                {
                    "output_type": "display_data",
                    "data": {
                        "text/html": "ALTER TABLE"
                    },
                    "metadata": {}
                },
                {
                    "output_type": "display_data",
                    "data": {
                        "text/html": "UPDATE 171"
                    },
                    "metadata": {}
                },
                {
                    "output_type": "display_data",
                    "data": {
                        "text/html": "Total execution time: 00:00:00.033"
                    },
                    "metadata": {}
                }
            ],
            "execution_count": 355
        },
        {
            "cell_type": "markdown",
            "source": [
                "## **Question #1:** **Am I a consistent and reliable film watcher/rater?**\n",
                "\n",
                "First, I need to know if I watching and rating films well <span style=\"font-family: -apple-system, BlinkMacSystemFont, sans-serif; color: var(--vscode-foreground);\">enough to justify my instantaneous rush to the Letterboxd app every time I reach the end credits of a film.</span>\n",
                "\n",
                "### **Summary statistics of my film ratings:**"
            ],
            "metadata": {
                "language": "sql",
                "azdata_cell_guid": "92cd57be-186e-4ac4-ae77-a24853c2678f"
            },
            "attachments": {}
        },
        {
            "cell_type": "code",
            "source": [
                "WITH myratingmean (mean) AS (\n",
                "    SELECT ROUND(AVG(myrating)::NUMERIC, 2)\n",
                "    FROM myratings\n",
                "    ),\n",
                "myratingmed (median) AS (\n",
                "    SELECT PERCENTILE_CONT(0.5) WITHIN GROUP (ORDER BY myrating)\n",
                "    FROM myratings\n",
                "    ),\n",
                "myratingmode (mode) AS (\n",
                "    SELECT myrating\n",
                "    FROM myratings\n",
                "    GROUP BY myrating\n",
                "    ORDER BY COUNT(myrating) DESC\n",
                "    LIMIT 1\n",
                "    ),\n",
                "myratingrange (max, min, range) AS (\n",
                "    SELECT MAX(myrating), \n",
                "    MIN(myrating), \n",
                "    (MAX(myrating) - MIN(myrating))\n",
                "    FROM myratings\n",
                "    ), \n",
                "myratingvar (variance) AS (\n",
                "    SELECT ROUND((SUM(POWER(my.myrating - mya.mean, 2)) / (COUNT(my.*) - 1))::NUMERIC, 2)\n",
                "    FROM myratings my, myratingmean mya\n",
                "    ),\n",
                "myratingsd (std_dev) AS (\n",
                "    SELECT ROUND(SQRT(variance)::NUMERIC, 2)\n",
                "    FROM myratingvar\n",
                "    )\n",
                "SELECT *\n",
                "FROM myratingmean, myratingmed, myratingmode, myratingrange, myratingvar, myratingsd;\n",
                ""
            ],
            "metadata": {
                "language": "sql",
                "azdata_cell_guid": "177e1ebf-72b1-4fbf-9d9f-87c432eda024",
                "tags": []
            },
            "outputs": [
                {
                    "output_type": "display_data",
                    "data": {
                        "text/html": "(1 row(s) affected)"
                    },
                    "metadata": {}
                },
                {
                    "output_type": "display_data",
                    "data": {
                        "text/html": "Total execution time: 00:00:00.016"
                    },
                    "metadata": {}
                },
                {
                    "output_type": "execute_result",
                    "metadata": {},
                    "execution_count": 356,
                    "data": {
                        "application/vnd.dataresource+json": {
                            "schema": {
                                "fields": [
                                    {
                                        "name": "mean"
                                    },
                                    {
                                        "name": "median"
                                    },
                                    {
                                        "name": "mode"
                                    },
                                    {
                                        "name": "max"
                                    },
                                    {
                                        "name": "min"
                                    },
                                    {
                                        "name": "range"
                                    },
                                    {
                                        "name": "variance"
                                    },
                                    {
                                        "name": "std_dev"
                                    }
                                ]
                            },
                            "data": [
                                {
                                    "mean": "3.44",
                                    "median": "3.5",
                                    "mode": "4",
                                    "max": "5",
                                    "min": "0.5",
                                    "range": "4.5",
                                    "variance": "1.02",
                                    "std_dev": "1.01"
                                }
                            ]
                        },
                        "text/html": [
                            "<table>",
                            "<tr><th>mean</th><th>median</th><th>mode</th><th>max</th><th>min</th><th>range</th><th>variance</th><th>std_dev</th></tr>",
                            "<tr><td>3.44</td><td>3.5</td><td>4</td><td>5</td><td>0.5</td><td>4.5</td><td>1.02</td><td>1.01</td></tr>",
                            "</table>"
                        ]
                    }
                }
            ],
            "execution_count": 356
        },
        {
            "cell_type": "code",
            "source": [
                "-- distribution of my film ratings in buckets\n",
                "SELECT CONCAT(FLOOR(myrating), ' - ', \n",
                "    CASE\n",
                "        WHEN FLOOR(myrating) = 5 THEN 5.0\n",
                "        ELSE FLOOR(myrating) + .9\n",
                "    END) bucket, \n",
                "    COUNT(*), \n",
                "    ROUND((COUNT(*)::NUMERIC / (SELECT COUNT(*) FROM myratings)), 2) share\n",
                "FROM myratings\n",
                "GROUP BY FLOOR(myrating)\n",
                "ORDER BY FLOOR(myrating);"
            ],
            "metadata": {
                "language": "sql",
                "azdata_cell_guid": "c8d65365-0aac-4f42-8709-d9974aafe29c",
                "tags": []
            },
            "outputs": [
                {
                    "output_type": "display_data",
                    "data": {
                        "text/html": "(6 row(s) affected)"
                    },
                    "metadata": {}
                },
                {
                    "output_type": "display_data",
                    "data": {
                        "text/html": "Total execution time: 00:00:00.039"
                    },
                    "metadata": {}
                },
                {
                    "output_type": "execute_result",
                    "metadata": {},
                    "execution_count": 357,
                    "data": {
                        "application/vnd.dataresource+json": {
                            "schema": {
                                "fields": [
                                    {
                                        "name": "bucket"
                                    },
                                    {
                                        "name": "count"
                                    },
                                    {
                                        "name": "share"
                                    }
                                ]
                            },
                            "data": [
                                {
                                    "bucket": "0 - 0.9",
                                    "count": "1",
                                    "share": "0.01"
                                },
                                {
                                    "bucket": "1 - 1.9",
                                    "count": "13",
                                    "share": "0.08"
                                },
                                {
                                    "bucket": "2 - 2.9",
                                    "count": "24",
                                    "share": "0.14"
                                },
                                {
                                    "bucket": "3 - 3.9",
                                    "count": "51",
                                    "share": "0.30"
                                },
                                {
                                    "bucket": "4 - 4.9",
                                    "count": "73",
                                    "share": "0.43"
                                },
                                {
                                    "bucket": "5 - 5",
                                    "count": "9",
                                    "share": "0.05"
                                }
                            ]
                        },
                        "text/html": [
                            "<table>",
                            "<tr><th>bucket</th><th>count</th><th>share</th></tr>",
                            "<tr><td>0 - 0.9</td><td>1</td><td>0.01</td></tr>",
                            "<tr><td>1 - 1.9</td><td>13</td><td>0.08</td></tr>",
                            "<tr><td>2 - 2.9</td><td>24</td><td>0.14</td></tr>",
                            "<tr><td>3 - 3.9</td><td>51</td><td>0.30</td></tr>",
                            "<tr><td>4 - 4.9</td><td>73</td><td>0.43</td></tr>",
                            "<tr><td>5 - 5</td><td>9</td><td>0.05</td></tr>",
                            "</table>"
                        ]
                    }
                }
            ],
            "execution_count": 357
        },
        {
            "cell_type": "markdown",
            "source": [
                "The mean film in my ratings received a 3.44 stars from me, although the bucketed distribution of my film ratings seems to indicate that I give significantly more films a rating 4 stars and above than I do below 3 stars. How generous of me!\n",
                "\n",
                "<span style=\"color: var(--vscode-foreground); font-family: -apple-system, BlinkMacSystemFont, sans-serif;\">Although my ratings are not normally distributed (the distribution demonstrates a skew left, in favor of higher ratings), the clustering of ratings around the median on the distribution table suggests I can interpret the standard deviation of my ratings, about 1.01 stars, to indicate a large majority of films I rate receive between approximately 2.5 and 4.5 stars. The distribution table illustrates that 73 percent of films I rated got a 3, 3.5, 4, or 4.5.</span>\n",
                "\n",
                "<span style=\"color: var(--vscode-foreground); font-family: -apple-system, BlinkMacSystemFont, sans-serif;\"><b>Conclusion:</b>&nbsp;Some combination of \"most films I watch are 'pretty good'!\" and \"I should be a little more critical of the films I watch\"</span>\n",
                "\n",
                "### **How consistently do I watch and rate new films?**"
            ],
            "metadata": {
                "language": "sql",
                "azdata_cell_guid": "b3662cff-7f09-4272-9dd3-c90a71290601"
            },
            "attachments": {}
        },
        {
            "cell_type": "code",
            "source": [
                "-- number of films watched per month\n",
                "SELECT EXTRACT(MONTH FROM date) AS watch_month, \n",
                "    EXTRACT(YEAR FROM date) AS watch_year, \n",
                "    COUNT(*) watch_count\n",
                "FROM myratings\n",
                "GROUP BY EXTRACT(MONTH FROM date), EXTRACT(YEAR FROM date)\n",
                "ORDER BY watch_year, watch_month;"
            ],
            "metadata": {
                "language": "sql",
                "azdata_cell_guid": "8c251ddc-6fc5-49a1-8bdc-e80e71db2777",
                "tags": []
            },
            "outputs": [
                {
                    "output_type": "display_data",
                    "data": {
                        "text/html": "(13 row(s) affected)"
                    },
                    "metadata": {}
                },
                {
                    "output_type": "display_data",
                    "data": {
                        "text/html": "Total execution time: 00:00:00.051"
                    },
                    "metadata": {}
                },
                {
                    "output_type": "execute_result",
                    "metadata": {},
                    "execution_count": 358,
                    "data": {
                        "application/vnd.dataresource+json": {
                            "schema": {
                                "fields": [
                                    {
                                        "name": "watch_month"
                                    },
                                    {
                                        "name": "watch_year"
                                    },
                                    {
                                        "name": "watch_count"
                                    }
                                ]
                            },
                            "data": [
                                {
                                    "watch_month": "5",
                                    "watch_year": "2022",
                                    "watch_count": "1"
                                },
                                {
                                    "watch_month": "6",
                                    "watch_year": "2023",
                                    "watch_count": "115"
                                },
                                {
                                    "watch_month": "7",
                                    "watch_year": "2023",
                                    "watch_count": "2"
                                },
                                {
                                    "watch_month": "8",
                                    "watch_year": "2023",
                                    "watch_count": "4"
                                },
                                {
                                    "watch_month": "9",
                                    "watch_year": "2023",
                                    "watch_count": "15"
                                },
                                {
                                    "watch_month": "10",
                                    "watch_year": "2023",
                                    "watch_count": "11"
                                },
                                {
                                    "watch_month": "11",
                                    "watch_year": "2023",
                                    "watch_count": "8"
                                },
                                {
                                    "watch_month": "12",
                                    "watch_year": "2023",
                                    "watch_count": "3"
                                },
                                {
                                    "watch_month": "1",
                                    "watch_year": "2024",
                                    "watch_count": "1"
                                },
                                {
                                    "watch_month": "2",
                                    "watch_year": "2024",
                                    "watch_count": "4"
                                },
                                {
                                    "watch_month": "3",
                                    "watch_year": "2024",
                                    "watch_count": "1"
                                },
                                {
                                    "watch_month": "4",
                                    "watch_year": "2024",
                                    "watch_count": "1"
                                },
                                {
                                    "watch_month": "5",
                                    "watch_year": "2024",
                                    "watch_count": "5"
                                }
                            ]
                        },
                        "text/html": [
                            "<table>",
                            "<tr><th>watch_month</th><th>watch_year</th><th>watch_count</th></tr>",
                            "<tr><td>5</td><td>2022</td><td>1</td></tr>",
                            "<tr><td>6</td><td>2023</td><td>115</td></tr>",
                            "<tr><td>7</td><td>2023</td><td>2</td></tr>",
                            "<tr><td>8</td><td>2023</td><td>4</td></tr>",
                            "<tr><td>9</td><td>2023</td><td>15</td></tr>",
                            "<tr><td>10</td><td>2023</td><td>11</td></tr>",
                            "<tr><td>11</td><td>2023</td><td>8</td></tr>",
                            "<tr><td>12</td><td>2023</td><td>3</td></tr>",
                            "<tr><td>1</td><td>2024</td><td>1</td></tr>",
                            "<tr><td>2</td><td>2024</td><td>4</td></tr>",
                            "<tr><td>3</td><td>2024</td><td>1</td></tr>",
                            "<tr><td>4</td><td>2024</td><td>1</td></tr>",
                            "<tr><td>5</td><td>2024</td><td>5</td></tr>",
                            "</table>"
                        ]
                    }
                }
            ],
            "execution_count": 358
        },
        {
            "cell_type": "markdown",
            "source": [
                "The spikes in my film-watching rates make perfect sense when I think back to my account history. In May 2022, I opened my Letterboxd account at the pleading of my friends and added only one film: Parasite (2016) (5 stars). It wasn't until June 2023 that I decided to take the film-rating more seriously and reviewed every single film I could remember watching up until that point in life in a single day.\n",
                "\n",
                "In the fall semester of my junior year of college, I took a Latin American Cinema class, which explains the frequency of my film ratings from August through November 2023. The following spring, I was the busiest I've been in my life, accounting for the dismal one film a month during that period. Fortunately, it l<span style=\"font-family: -apple-system, BlinkMacSystemFont, sans-serif; color: var(--vscode-foreground);\">ooks like the dawn of summer break in May 2024 has restored me back to a film-watching rate I want to be at!</span>"
            ],
            "metadata": {
                "language": "sql",
                "azdata_cell_guid": "c6c86450-316b-4f92-8bf7-3bd67e33d86d"
            },
            "attachments": {}
        },
        {
            "cell_type": "code",
            "source": [
                "-- average time in between watches\n",
                "WITH watch_distances (days_between) AS (\n",
                "    SELECT date - (LAG(date, 1) OVER(ORDER BY date ASC))\n",
                "    FROM myratings\n",
                "    WHERE date > '2023-06-13'\n",
                "    )\n",
                "SELECT ROUND(AVG(days_between)::NUMERIC, 2) avg_days_between\n",
                "FROM watch_distances;"
            ],
            "metadata": {
                "language": "sql",
                "azdata_cell_guid": "e37b19c4-42f2-41ac-b948-5bae765ab1dc",
                "tags": []
            },
            "outputs": [
                {
                    "output_type": "display_data",
                    "data": {
                        "text/html": "(1 row(s) affected)"
                    },
                    "metadata": {}
                },
                {
                    "output_type": "display_data",
                    "data": {
                        "text/html": "Total execution time: 00:00:00.282"
                    },
                    "metadata": {}
                },
                {
                    "output_type": "execute_result",
                    "metadata": {},
                    "execution_count": 359,
                    "data": {
                        "application/vnd.dataresource+json": {
                            "schema": {
                                "fields": [
                                    {
                                        "name": "avg_days_between"
                                    }
                                ]
                            },
                            "data": [
                                {
                                    "avg_days_between": "6.06"
                                }
                            ]
                        },
                        "text/html": [
                            "<table>",
                            "<tr><th>avg_days_between</th></tr>",
                            "<tr><td>6.06</td></tr>",
                            "</table>"
                        ]
                    }
                }
            ],
            "execution_count": 359
        },
        {
            "cell_type": "markdown",
            "source": [
                "Discounting the period before I was logging films on Letterboxd, I watched one new film about every six days!\n",
                "\n",
                "**Conclusion:** I should take more time to chill out and watch films during the school year.\n",
                "\n",
                "### **Do my ratings get more or less generous over time?**\n",
                "\n",
                "For each film, I extract the month and year I watched it and a rating generosity score, which I operationalize as <span style=\"font-family: -apple-system, BlinkMacSystemFont, sans-serif; color: var(--vscode-foreground);\">the difference between my rating for the film and its overall average rating from all Letterboxd members. I start from June 2023, when I started consistently reviewing films on the app.</span>"
            ],
            "metadata": {
                "language": "sql",
                "azdata_cell_guid": "bda7b583-a03b-49de-b9f8-8707cfc6297e"
            },
            "attachments": {}
        },
        {
            "cell_type": "code",
            "source": [
                "-- month/year watched and monthly average difference in my ratings from the community\n",
                "WITH sample_dates (watch_month, watch_year, rating_diff) AS (\n",
                "    SELECT EXTRACT(month FROM my.date), \n",
                "        EXTRACT(year FROM my.date),\n",
                "        (my.myrating - lb.lb_rating)\n",
                "    FROM myratings my JOIN lbrating lb ON my.url_id = lb.url_id\n",
                "    WHERE date >= '2023-06-12'\n",
                "    )\n",
                "SELECT watch_month, \n",
                "    watch_year, \n",
                "    ROUND(AVG(rating_diff)::NUMERIC, 2) avg_difference\n",
                "FROM sample_dates sd\n",
                "GROUP BY watch_year, watch_month\n",
                "ORDER BY watch_year, watch_month;"
            ],
            "metadata": {
                "language": "sql",
                "azdata_cell_guid": "87875115-2715-4acd-88c3-4c7a00d11b17",
                "tags": []
            },
            "outputs": [
                {
                    "output_type": "display_data",
                    "data": {
                        "text/html": "(12 row(s) affected)"
                    },
                    "metadata": {}
                },
                {
                    "output_type": "display_data",
                    "data": {
                        "text/html": "Total execution time: 00:00:00.037"
                    },
                    "metadata": {}
                },
                {
                    "output_type": "execute_result",
                    "metadata": {},
                    "execution_count": 360,
                    "data": {
                        "application/vnd.dataresource+json": {
                            "schema": {
                                "fields": [
                                    {
                                        "name": "watch_month"
                                    },
                                    {
                                        "name": "watch_year"
                                    },
                                    {
                                        "name": "avg_difference"
                                    }
                                ]
                            },
                            "data": [
                                {
                                    "watch_month": "6",
                                    "watch_year": "2023",
                                    "avg_difference": "-0.06"
                                },
                                {
                                    "watch_month": "7",
                                    "watch_year": "2023",
                                    "avg_difference": "-0.01"
                                },
                                {
                                    "watch_month": "8",
                                    "watch_year": "2023",
                                    "avg_difference": "-0.14"
                                },
                                {
                                    "watch_month": "9",
                                    "watch_year": "2023",
                                    "avg_difference": "-0.97"
                                },
                                {
                                    "watch_month": "10",
                                    "watch_year": "2023",
                                    "avg_difference": "-0.95"
                                },
                                {
                                    "watch_month": "11",
                                    "watch_year": "2023",
                                    "avg_difference": "-0.34"
                                },
                                {
                                    "watch_month": "12",
                                    "watch_year": "2023",
                                    "avg_difference": "-0.01"
                                },
                                {
                                    "watch_month": "1",
                                    "watch_year": "2024",
                                    "avg_difference": "0.74"
                                },
                                {
                                    "watch_month": "2",
                                    "watch_year": "2024",
                                    "avg_difference": "-0.51"
                                },
                                {
                                    "watch_month": "3",
                                    "watch_year": "2024",
                                    "avg_difference": "0.74"
                                },
                                {
                                    "watch_month": "4",
                                    "watch_year": "2024",
                                    "avg_difference": "-0.23"
                                },
                                {
                                    "watch_month": "5",
                                    "watch_year": "2024",
                                    "avg_difference": "0.17"
                                }
                            ]
                        },
                        "text/html": [
                            "<table>",
                            "<tr><th>watch_month</th><th>watch_year</th><th>avg_difference</th></tr>",
                            "<tr><td>6</td><td>2023</td><td>-0.06</td></tr>",
                            "<tr><td>7</td><td>2023</td><td>-0.01</td></tr>",
                            "<tr><td>8</td><td>2023</td><td>-0.14</td></tr>",
                            "<tr><td>9</td><td>2023</td><td>-0.97</td></tr>",
                            "<tr><td>10</td><td>2023</td><td>-0.95</td></tr>",
                            "<tr><td>11</td><td>2023</td><td>-0.34</td></tr>",
                            "<tr><td>12</td><td>2023</td><td>-0.01</td></tr>",
                            "<tr><td>1</td><td>2024</td><td>0.74</td></tr>",
                            "<tr><td>2</td><td>2024</td><td>-0.51</td></tr>",
                            "<tr><td>3</td><td>2024</td><td>0.74</td></tr>",
                            "<tr><td>4</td><td>2024</td><td>-0.23</td></tr>",
                            "<tr><td>5</td><td>2024</td><td>0.17</td></tr>",
                            "</table>"
                        ]
                    }
                }
            ],
            "execution_count": 360
        },
        {
            "cell_type": "markdown",
            "source": [
                "This relation seems to fluctuate a bit, trending negatively in late 2023 then in the positive in 2024, but I want to perform a linear regression to be certain whether a long-term change in film-rating generosity over time is statistically significant:"
            ],
            "metadata": {
                "language": "sql",
                "azdata_cell_guid": "ea67e3ee-8526-44fa-b596-33e9bd6c7144"
            },
            "attachments": {}
        },
        {
            "cell_type": "code",
            "source": [
                "-- months since I started on Letterboxd and the differences in my and community ratings\n",
                "CREATE OR REPLACE VIEW months_passed AS\n",
                "    SELECT (EXTRACT(month FROM my.date) - 6) + ((EXTRACT(year FROM my.date) - 2023) * 12) months,\n",
                "        (my.myrating - lb.lb_rating) rating_diff\n",
                "    FROM myratings my JOIN lbrating lb ON my.url_id = lb.url_id\n",
                "    WHERE date >= '2023-06-12';\n",
                "\n",
                "-- linear regression of ratings differences on months I have been using Letterboxd\n",
                "SELECT ROUND(REGR_SLOPE(rating_diff, months)::NUMERIC, 2) slope, \n",
                "    ROUND(REGR_INTERCEPT(rating_diff, months)::NUMERIC, 2) intercept\n",
                "FROM months_passed;\n",
                "\n",
                "-- t-test for significance of months coefficient, assuming normal sampling distribution given n >= 30\n",
                "WITH regression (beta, alpha, sxx) AS (\n",
                "    SELECT REGR_SLOPE(rating_diff, months), \n",
                "        REGR_INTERCEPT(rating_diff, months),\n",
                "        REGR_SXX(rating_diff, months)\n",
                "    FROM months_passed\n",
                "    ),\n",
                "mean_squared_error (mse) AS (\n",
                "    SELECT SUM(rss.res_sum_squares) / (COUNT(*) - 2)\n",
                "    FROM (\n",
                "        SELECT POWER(mp.rating_diff - (r.beta * mp.months + r.alpha), 2) res_sum_squares\n",
                "        FROM months_passed mp, regression r\n",
                "        ) rss\n",
                "    )\n",
                "SELECT ROUND((r.beta / SQRT(m.mse / r.sxx))::NUMERIC, 2) t_stat\n",
                "FROM regression r, mean_squared_error m\n",
                "GROUP BY r.beta, m.mse, r.sxx;"
            ],
            "metadata": {
                "language": "sql",
                "azdata_cell_guid": "701ad900-319a-4583-b837-36e2f489f885",
                "tags": []
            },
            "outputs": [
                {
                    "output_type": "display_data",
                    "data": {
                        "text/html": "CREATE VIEW"
                    },
                    "metadata": {}
                },
                {
                    "output_type": "display_data",
                    "data": {
                        "text/html": "(1 row(s) affected)"
                    },
                    "metadata": {}
                },
                {
                    "output_type": "display_data",
                    "data": {
                        "text/html": "(1 row(s) affected)"
                    },
                    "metadata": {}
                },
                {
                    "output_type": "display_data",
                    "data": {
                        "text/html": "Total execution time: 00:00:00.225"
                    },
                    "metadata": {}
                },
                {
                    "output_type": "execute_result",
                    "metadata": {},
                    "execution_count": 361,
                    "data": {
                        "application/vnd.dataresource+json": {
                            "schema": {
                                "fields": [
                                    {
                                        "name": "slope"
                                    },
                                    {
                                        "name": "intercept"
                                    }
                                ]
                            },
                            "data": [
                                {
                                    "slope": "-0.03",
                                    "intercept": "-0.15"
                                }
                            ]
                        },
                        "text/html": [
                            "<table>",
                            "<tr><th>slope</th><th>intercept</th></tr>",
                            "<tr><td>-0.03</td><td>-0.15</td></tr>",
                            "</table>"
                        ]
                    }
                },
                {
                    "output_type": "execute_result",
                    "metadata": {},
                    "execution_count": 361,
                    "data": {
                        "application/vnd.dataresource+json": {
                            "schema": {
                                "fields": [
                                    {
                                        "name": "t_stat"
                                    }
                                ]
                            },
                            "data": [
                                {
                                    "t_stat": "-1.20"
                                }
                            ]
                        },
                        "text/html": [
                            "<table>",
                            "<tr><th>t_stat</th></tr>",
                            "<tr><td>-1.20</td></tr>",
                            "</table>"
                        ]
                    }
                }
            ],
            "execution_count": 361
        },
        {
            "cell_type": "markdown",
            "source": [
                "Although, holding all else constant, my ratings suggest a tendency to decrease about 0.03 stars relative to the Letterboxd average for every month that passes, my one-sample t-test of this coefficient yields a t-statistic of about -1.20, below the statistical significance at -1.96 at alpha = 0.05 significance level.\n",
                "\n",
                "**Conclusion:** There is no conclusive evidence that I've gotten soft, but I should still be mindful of it because a t-statistic of -1.20 isn't necessarily negligible.\n",
                "\n",
                "## **Question #2: How do my ratings compare with the rest of Letterboxd users?**\n",
                "\n",
                "Time to backtrack a little from the last analysis on differences in ratings.\n",
                "\n",
                "### **How do my overall ratings differ from others'?**"
            ],
            "metadata": {
                "language": "sql",
                "azdata_cell_guid": "524831c7-016a-4a93-b0ae-a57fca0773e0"
            },
            "attachments": {}
        },
        {
            "cell_type": "code",
            "source": [
                "-- average difference between my rating and community rating\n",
                "SELECT ROUND(AVG(my.myrating - lb.lb_rating)::NUMERIC, 2) avg_difference\n",
                "FROM myratings my JOIN lbrating lb ON my.url_id = lb.url_id;\n",
                "\n",
                "-- average absolute deviation of my rating from community rating\n",
                "SELECT ROUND(AVG(ABS(my.myrating - lb.lb_rating))::NUMERIC, 2) avg_deviation\n",
                "FROM myratings my JOIN lbrating lb ON my.url_id = lb.url_id;\n",
                ""
            ],
            "metadata": {
                "language": "sql",
                "azdata_cell_guid": "4d4dc7cb-c4dc-4bf5-bb85-1ffbbdf38d14",
                "tags": []
            },
            "outputs": [
                {
                    "output_type": "display_data",
                    "data": {
                        "text/html": "(1 row(s) affected)"
                    },
                    "metadata": {}
                },
                {
                    "output_type": "display_data",
                    "data": {
                        "text/html": "(1 row(s) affected)"
                    },
                    "metadata": {}
                },
                {
                    "output_type": "display_data",
                    "data": {
                        "text/html": "Total execution time: 00:00:00.070"
                    },
                    "metadata": {}
                },
                {
                    "output_type": "execute_result",
                    "metadata": {},
                    "execution_count": 362,
                    "data": {
                        "application/vnd.dataresource+json": {
                            "schema": {
                                "fields": [
                                    {
                                        "name": "avg_difference"
                                    }
                                ]
                            },
                            "data": [
                                {
                                    "avg_difference": "-0.20"
                                }
                            ]
                        },
                        "text/html": [
                            "<table>",
                            "<tr><th>avg_difference</th></tr>",
                            "<tr><td>-0.20</td></tr>",
                            "</table>"
                        ]
                    }
                },
                {
                    "output_type": "execute_result",
                    "metadata": {},
                    "execution_count": 362,
                    "data": {
                        "application/vnd.dataresource+json": {
                            "schema": {
                                "fields": [
                                    {
                                        "name": "avg_deviation"
                                    }
                                ]
                            },
                            "data": [
                                {
                                    "avg_deviation": "0.78"
                                }
                            ]
                        },
                        "text/html": [
                            "<table>",
                            "<tr><th>avg_deviation</th></tr>",
                            "<tr><td>0.78</td></tr>",
                            "</table>"
                        ]
                    }
                }
            ],
            "execution_count": 362
        },
        {
            "cell_type": "markdown",
            "source": [
                "Despite my earlier conclusion that I might be rating films too favorably, it looks like my ratings are about 0.2 stars _lower_ than other users' ratings on average.\n",
                "\n",
                "Further, my film ratings are an absolute average of 0.78 stars away from the community rating, which I say reflects a healthy amount of popular taste with sporadic contrarian takes. This raises an interesting follow-up question.\n",
                "\n",
                "### **Which films did I have the hottest takes for?**"
            ],
            "metadata": {
                "language": "sql",
                "azdata_cell_guid": "8e2ff369-48c3-45b0-829a-c80ee55883c5"
            },
            "attachments": {}
        },
        {
            "cell_type": "code",
            "source": [
                "-- largest deviation in rating\n",
                "SELECT my.title, ROUND((my.myrating - lb.lb_rating)::NUMERIC, 2) difference\n",
                "FROM myratings my JOIN lbrating lb ON my.url_id = lb.url_id\n",
                "ORDER BY ABS(my.myrating - lb.lb_rating) DESC\n",
                "LIMIT 10;"
            ],
            "metadata": {
                "language": "sql",
                "azdata_cell_guid": "a482e309-a98b-427b-906d-a9c3387d7726",
                "tags": []
            },
            "outputs": [
                {
                    "output_type": "display_data",
                    "data": {
                        "text/html": "(10 row(s) affected)"
                    },
                    "metadata": {}
                },
                {
                    "output_type": "display_data",
                    "data": {
                        "text/html": "Total execution time: 00:00:00.010"
                    },
                    "metadata": {}
                },
                {
                    "output_type": "execute_result",
                    "metadata": {},
                    "execution_count": 363,
                    "data": {
                        "application/vnd.dataresource+json": {
                            "schema": {
                                "fields": [
                                    {
                                        "name": "title"
                                    },
                                    {
                                        "name": "difference"
                                    }
                                ]
                            },
                            "data": [
                                {
                                    "title": "Birdman or (The Unexpected Virtue of Ignorance)",
                                    "difference": "-3.49"
                                },
                                {
                                    "title": "Mulholland Drive",
                                    "difference": "-3.24"
                                },
                                {
                                    "title": "Blade Runner 2049",
                                    "difference": "-2.62"
                                },
                                {
                                    "title": "Rodrigo D. No Future",
                                    "difference": "-2.59"
                                },
                                {
                                    "title": "Black God, White Devil",
                                    "difference": "-2.28"
                                },
                                {
                                    "title": "No",
                                    "difference": "-2.28"
                                },
                                {
                                    "title": "Fight Club",
                                    "difference": "-2.27"
                                },
                                {
                                    "title": "Paul Blart: Mall Cop",
                                    "difference": "2.13"
                                },
                                {
                                    "title": "La hora de los hornos",
                                    "difference": "-1.97"
                                },
                                {
                                    "title": "Tenet",
                                    "difference": "-1.90"
                                }
                            ]
                        },
                        "text/html": [
                            "<table>",
                            "<tr><th>title</th><th>difference</th></tr>",
                            "<tr><td>Birdman or (The Unexpected Virtue of Ignorance)</td><td>-3.49</td></tr>",
                            "<tr><td>Mulholland Drive</td><td>-3.24</td></tr>",
                            "<tr><td>Blade Runner 2049</td><td>-2.62</td></tr>",
                            "<tr><td>Rodrigo D. No Future</td><td>-2.59</td></tr>",
                            "<tr><td>Black God, White Devil</td><td>-2.28</td></tr>",
                            "<tr><td>No</td><td>-2.28</td></tr>",
                            "<tr><td>Fight Club</td><td>-2.27</td></tr>",
                            "<tr><td>Paul Blart: Mall Cop</td><td>2.13</td></tr>",
                            "<tr><td>La hora de los hornos</td><td>-1.97</td></tr>",
                            "<tr><td>Tenet</td><td>-1.90</td></tr>",
                            "</table>"
                        ]
                    }
                }
            ],
            "execution_count": 363
        },
        {
            "cell_type": "markdown",
            "source": [
                "Of the ten films for which I differed from the Letterboxd average the most, **nine of them were negatively**! Hating Birdman, Mulholland Drive, and Blade Runner 2049 are apparently my hottest takes, which, while unsurprising, also indicates I have a thing aginst arthouse surrealism.\n",
                "\n",
                "For completeness, here are the films I liked much more than most:"
            ],
            "metadata": {
                "language": "sql",
                "azdata_cell_guid": "9f313843-1412-4a28-96ed-c0723e8e2abb"
            },
            "attachments": {}
        },
        {
            "cell_type": "code",
            "source": [
                "-- films I rated higher than the community average\n",
                "SELECT my.title, ROUND((my.myrating - lb.lb_rating)::NUMERIC, 2) difference\n",
                "FROM myratings my JOIN lbrating lb ON my.url_id = lb.url_id\n",
                "ORDER BY difference DESC\n",
                "LIMIT 10;"
            ],
            "metadata": {
                "language": "sql",
                "azdata_cell_guid": "d617229e-cc1a-4dba-9861-c22e34e0fafb",
                "tags": []
            },
            "outputs": [
                {
                    "output_type": "display_data",
                    "data": {
                        "text/html": "(10 row(s) affected)"
                    },
                    "metadata": {}
                },
                {
                    "output_type": "display_data",
                    "data": {
                        "text/html": "Total execution time: 00:00:00.014"
                    },
                    "metadata": {}
                },
                {
                    "output_type": "execute_result",
                    "metadata": {},
                    "execution_count": 364,
                    "data": {
                        "application/vnd.dataresource+json": {
                            "schema": {
                                "fields": [
                                    {
                                        "name": "title"
                                    },
                                    {
                                        "name": "difference"
                                    }
                                ]
                            },
                            "data": [
                                {
                                    "title": "Paul Blart: Mall Cop",
                                    "difference": "2.13"
                                },
                                {
                                    "title": "Home Alone 4",
                                    "difference": "1.72"
                                },
                                {
                                    "title": "Teenage Mutant Ninja Turtles",
                                    "difference": "1.66"
                                },
                                {
                                    "title": "The Karate Kid",
                                    "difference": "1.54"
                                },
                                {
                                    "title": "Alvin and the Chipmunks",
                                    "difference": "1.43"
                                },
                                {
                                    "title": "Jumanji: Welcome to the Jungle",
                                    "difference": "1.42"
                                },
                                {
                                    "title": "Despicable Me 2",
                                    "difference": "1.38"
                                },
                                {
                                    "title": "Wendy Wu: Homecoming Warrior",
                                    "difference": "1.31"
                                },
                                {
                                    "title": "Borat Subsequent Moviefilm",
                                    "difference": "1.22"
                                },
                                {
                                    "title": "Big Hero 6",
                                    "difference": "1.22"
                                }
                            ]
                        },
                        "text/html": [
                            "<table>",
                            "<tr><th>title</th><th>difference</th></tr>",
                            "<tr><td>Paul Blart: Mall Cop</td><td>2.13</td></tr>",
                            "<tr><td>Home Alone 4</td><td>1.72</td></tr>",
                            "<tr><td>Teenage Mutant Ninja Turtles</td><td>1.66</td></tr>",
                            "<tr><td>The Karate Kid</td><td>1.54</td></tr>",
                            "<tr><td>Alvin and the Chipmunks</td><td>1.43</td></tr>",
                            "<tr><td>Jumanji: Welcome to the Jungle</td><td>1.42</td></tr>",
                            "<tr><td>Despicable Me 2</td><td>1.38</td></tr>",
                            "<tr><td>Wendy Wu: Homecoming Warrior</td><td>1.31</td></tr>",
                            "<tr><td>Borat Subsequent Moviefilm</td><td>1.22</td></tr>",
                            "<tr><td>Big Hero 6</td><td>1.22</td></tr>",
                            "</table>"
                        ]
                    }
                }
            ],
            "execution_count": 364
        },
        {
            "cell_type": "markdown",
            "source": [
                "Aside from exposing myself as a Paul Blart superfan, it looks like the majority of the films that I like more than most believe is warranted were those that I watched as a kid and have a special place in my heart.\n",
                "\n",
                "### **How mainstream are my favorite films?**\n",
                "\n",
                "To determine how basic or unconventional my film taste is, I examine how many ratings my 5 star films have on Letterboxd relative to all films I've rated."
            ],
            "metadata": {
                "language": "sql",
                "azdata_cell_guid": "f685f3d0-1ddb-4aeb-965b-22bd0983b1d9"
            },
            "attachments": {}
        },
        {
            "cell_type": "code",
            "source": [
                "-- Letterboxd rating count tertiles of my 5 star films relative to all films I have rated\n",
                "WITH rc_tertiles (url_id, rating_count, tertile) AS (\n",
                "    SELECT url_id, rating_count,\n",
                "        NTILE(3) OVER (ORDER BY rating_count ASC)\n",
                "    FROM ratingcount\n",
                "    )\n",
                "SELECT my.title, \n",
                "    rct.rating_count,\n",
                "    CASE\n",
                "        WHEN rct.tertile = 1 THEN 'Bottom Third'\n",
                "        WHEN rct.tertile = 2 THEN 'Middle Third'\n",
                "        ELSE 'Top Third'\n",
                "    END rating_count_percentile\n",
                "FROM myratings my JOIN rc_tertiles rct ON my.url_id = rct.url_id\n",
                "WHERE my.myrating = 5\n",
                "GROUP BY my.title, rct.rating_count, rct.tertile\n",
                "ORDER BY rct.rating_count DESC;"
            ],
            "metadata": {
                "language": "sql",
                "azdata_cell_guid": "d93c7c8b-8159-4fa0-ae3a-3aada6919f83",
                "tags": []
            },
            "outputs": [
                {
                    "output_type": "display_data",
                    "data": {
                        "text/html": "(9 row(s) affected)"
                    },
                    "metadata": {}
                },
                {
                    "output_type": "display_data",
                    "data": {
                        "text/html": "Total execution time: 00:00:00.103"
                    },
                    "metadata": {}
                },
                {
                    "output_type": "execute_result",
                    "metadata": {},
                    "execution_count": 365,
                    "data": {
                        "application/vnd.dataresource+json": {
                            "schema": {
                                "fields": [
                                    {
                                        "name": "title"
                                    },
                                    {
                                        "name": "rating_count"
                                    },
                                    {
                                        "name": "rating_count_percentile"
                                    }
                                ]
                            },
                            "data": [
                                {
                                    "title": "Parasite",
                                    "rating_count": "2910339",
                                    "rating_count_percentile": "Top Third"
                                },
                                {
                                    "title": "Everything Everywhere All at Once",
                                    "rating_count": "2401746",
                                    "rating_count_percentile": "Top Third"
                                },
                                {
                                    "title": "La La Land",
                                    "rating_count": "2363637",
                                    "rating_count_percentile": "Top Third"
                                },
                                {
                                    "title": "Whiplash",
                                    "rating_count": "2200199",
                                    "rating_count_percentile": "Top Third"
                                },
                                {
                                    "title": "Eternal Sunshine of the Spotless Mind",
                                    "rating_count": "1624872",
                                    "rating_count_percentile": "Top Third"
                                },
                                {
                                    "title": "Challengers",
                                    "rating_count": "1015597",
                                    "rating_count_percentile": "Top Third"
                                },
                                {
                                    "title": "Big Hero 6",
                                    "rating_count": "866794",
                                    "rating_count_percentile": "Middle Third"
                                },
                                {
                                    "title": "Before Sunrise",
                                    "rating_count": "721254",
                                    "rating_count_percentile": "Middle Third"
                                },
                                {
                                    "title": "Nathan for You: Finding Frances",
                                    "rating_count": "46219",
                                    "rating_count_percentile": "Bottom Third"
                                }
                            ]
                        },
                        "text/html": [
                            "<table>",
                            "<tr><th>title</th><th>rating_count</th><th>rating_count_percentile</th></tr>",
                            "<tr><td>Parasite</td><td>2910339</td><td>Top Third</td></tr>",
                            "<tr><td>Everything Everywhere All at Once</td><td>2401746</td><td>Top Third</td></tr>",
                            "<tr><td>La La Land</td><td>2363637</td><td>Top Third</td></tr>",
                            "<tr><td>Whiplash</td><td>2200199</td><td>Top Third</td></tr>",
                            "<tr><td>Eternal Sunshine of the Spotless Mind</td><td>1624872</td><td>Top Third</td></tr>",
                            "<tr><td>Challengers</td><td>1015597</td><td>Top Third</td></tr>",
                            "<tr><td>Big Hero 6</td><td>866794</td><td>Middle Third</td></tr>",
                            "<tr><td>Before Sunrise</td><td>721254</td><td>Middle Third</td></tr>",
                            "<tr><td>Nathan for You: Finding Frances</td><td>46219</td><td>Bottom Third</td></tr>",
                            "</table>"
                        ]
                    }
                }
            ],
            "execution_count": 365
        },
        {
            "cell_type": "markdown",
            "source": [
                "Regrettably, the majority of my favorite films have been watched and rated by high numbers in the Letterboxd community, so I can't justly claim the title of \"film bro,\" not that I mind much.\n",
                "\n",
                "**Conclusion:** Contrary to my self assessment, I appreciate mainstream and family films over arthouse deep cuts more than most Letterboxd users. But maybe that just speaks to the type of people who use Letterboxd.\n",
                "\n",
                "## **Question #3: What characteristics do I like and dislike in films?**\n",
                "\n",
                "### **What are my favorite and least favorite films?**\n",
                "\n",
                "This is a reiteration of information seen above, but it helps to consolidate the films that represent my favorite cinema, and those that made my jaw drop for the wrong reasons:"
            ],
            "metadata": {
                "language": "sql",
                "azdata_cell_guid": "2927f064-fed3-4124-8616-ca1b1a9fed40"
            },
            "attachments": {}
        },
        {
            "cell_type": "code",
            "source": [
                "-- films I have rated 5 stars\n",
                "SELECT title, myrating\n",
                "FROM myratings\n",
                "WHERE myrating = 5\n",
                "ORDER BY title ASC;\n",
                "\n",
                "-- films I have rated 1 star or lower\n",
                "SELECT title, myrating\n",
                "FROM myratings\n",
                "WHERE myrating <= 1\n",
                "ORDER BY title ASC;"
            ],
            "metadata": {
                "language": "sql",
                "azdata_cell_guid": "338a6fbf-0b98-4204-b1f7-554f946dd52a",
                "tags": []
            },
            "outputs": [
                {
                    "output_type": "display_data",
                    "data": {
                        "text/html": "(9 row(s) affected)"
                    },
                    "metadata": {}
                },
                {
                    "output_type": "display_data",
                    "data": {
                        "text/html": "(7 row(s) affected)"
                    },
                    "metadata": {}
                },
                {
                    "output_type": "display_data",
                    "data": {
                        "text/html": "Total execution time: 00:00:00.069"
                    },
                    "metadata": {}
                },
                {
                    "output_type": "execute_result",
                    "metadata": {},
                    "execution_count": 367,
                    "data": {
                        "application/vnd.dataresource+json": {
                            "schema": {
                                "fields": [
                                    {
                                        "name": "title"
                                    },
                                    {
                                        "name": "myrating"
                                    }
                                ]
                            },
                            "data": [
                                {
                                    "title": "Before Sunrise",
                                    "myrating": "5"
                                },
                                {
                                    "title": "Big Hero 6",
                                    "myrating": "5"
                                },
                                {
                                    "title": "Challengers",
                                    "myrating": "5"
                                },
                                {
                                    "title": "Eternal Sunshine of the Spotless Mind",
                                    "myrating": "5"
                                },
                                {
                                    "title": "Everything Everywhere All at Once",
                                    "myrating": "5"
                                },
                                {
                                    "title": "La La Land",
                                    "myrating": "5"
                                },
                                {
                                    "title": "Nathan for You: Finding Frances",
                                    "myrating": "5"
                                },
                                {
                                    "title": "Parasite",
                                    "myrating": "5"
                                },
                                {
                                    "title": "Whiplash",
                                    "myrating": "5"
                                }
                            ]
                        },
                        "text/html": [
                            "<table>",
                            "<tr><th>title</th><th>myrating</th></tr>",
                            "<tr><td>Before Sunrise</td><td>5</td></tr>",
                            "<tr><td>Big Hero 6</td><td>5</td></tr>",
                            "<tr><td>Challengers</td><td>5</td></tr>",
                            "<tr><td>Eternal Sunshine of the Spotless Mind</td><td>5</td></tr>",
                            "<tr><td>Everything Everywhere All at Once</td><td>5</td></tr>",
                            "<tr><td>La La Land</td><td>5</td></tr>",
                            "<tr><td>Nathan for You: Finding Frances</td><td>5</td></tr>",
                            "<tr><td>Parasite</td><td>5</td></tr>",
                            "<tr><td>Whiplash</td><td>5</td></tr>",
                            "</table>"
                        ]
                    }
                },
                {
                    "output_type": "execute_result",
                    "metadata": {},
                    "execution_count": 367,
                    "data": {
                        "application/vnd.dataresource+json": {
                            "schema": {
                                "fields": [
                                    {
                                        "name": "title"
                                    },
                                    {
                                        "name": "myrating"
                                    }
                                ]
                            },
                            "data": [
                                {
                                    "title": "Birdman or (The Unexpected Virtue of Ignorance)",
                                    "myrating": "0.5"
                                },
                                {
                                    "title": "Bulletproof Monk",
                                    "myrating": "1"
                                },
                                {
                                    "title": "Five Nights at Freddy's",
                                    "myrating": "1"
                                },
                                {
                                    "title": "Mulholland Drive",
                                    "myrating": "1"
                                },
                                {
                                    "title": "Rodrigo D. No Future",
                                    "myrating": "1"
                                },
                                {
                                    "title": "Superbabies: Baby Geniuses 2",
                                    "myrating": "1"
                                },
                                {
                                    "title": "The Emoji Movie",
                                    "myrating": "1"
                                }
                            ]
                        },
                        "text/html": [
                            "<table>",
                            "<tr><th>title</th><th>myrating</th></tr>",
                            "<tr><td>Birdman or (The Unexpected Virtue of Ignorance)</td><td>0.5</td></tr>",
                            "<tr><td>Bulletproof Monk</td><td>1</td></tr>",
                            "<tr><td>Five Nights at Freddy&#39;s</td><td>1</td></tr>",
                            "<tr><td>Mulholland Drive</td><td>1</td></tr>",
                            "<tr><td>Rodrigo D. No Future</td><td>1</td></tr>",
                            "<tr><td>Superbabies: Baby Geniuses 2</td><td>1</td></tr>",
                            "<tr><td>The Emoji Movie</td><td>1</td></tr>",
                            "</table>"
                        ]
                    }
                }
            ],
            "execution_count": 367
        },
        {
            "cell_type": "markdown",
            "source": [
                "### <span style=\"font-family: -apple-system, BlinkMacSystemFont, sans-serif; color: var(--vscode-foreground);\"><b>Which directors do I enjoy the most?</b></span>"
            ],
            "metadata": {
                "language": "sql",
                "azdata_cell_guid": "a8a2d17c-4fa7-49b5-b901-ff5784084a0f"
            },
            "attachments": {}
        },
        {
            "cell_type": "code",
            "source": [
                "-- common directors among my favorably rated films\n",
                "SELECT d.director, COUNT(d.director) director_count\n",
                "FROM myratings my JOIN directors d ON my.url_id = d.url_id\n",
                "WHERE my.myrating >= 4\n",
                "GROUP BY d.director\n",
                "HAVING COUNT(d.director) > 1\n",
                "ORDER BY director_count DESC;"
            ],
            "metadata": {
                "language": "sql",
                "azdata_cell_guid": "fe770a01-d365-4e96-9f89-203fa1c9ac5b",
                "tags": []
            },
            "outputs": [
                {
                    "output_type": "display_data",
                    "data": {
                        "text/html": "(9 row(s) affected)"
                    },
                    "metadata": {}
                },
                {
                    "output_type": "display_data",
                    "data": {
                        "text/html": "Total execution time: 00:00:00.021"
                    },
                    "metadata": {}
                },
                {
                    "output_type": "execute_result",
                    "metadata": {},
                    "execution_count": 368,
                    "data": {
                        "application/vnd.dataresource+json": {
                            "schema": {
                                "fields": [
                                    {
                                        "name": "director"
                                    },
                                    {
                                        "name": "director_count"
                                    }
                                ]
                            },
                            "data": [
                                {
                                    "director": "Christopher Nolan",
                                    "director_count": "4"
                                },
                                {
                                    "director": "Bong Joon-ho",
                                    "director_count": "3"
                                },
                                {
                                    "director": "Andrew Stanton",
                                    "director_count": "2"
                                },
                                {
                                    "director": "Steven Spielberg",
                                    "director_count": "2"
                                },
                                {
                                    "director": "Damien Chazelle",
                                    "director_count": "2"
                                },
                                {
                                    "director": "Rich Moore",
                                    "director_count": "2"
                                },
                                {
                                    "director": "Park Chan-wook",
                                    "director_count": "2"
                                },
                                {
                                    "director": "Matthew Vaughn",
                                    "director_count": "2"
                                },
                                {
                                    "director": "Chris Columbus",
                                    "director_count": "2"
                                }
                            ]
                        },
                        "text/html": [
                            "<table>",
                            "<tr><th>director</th><th>director_count</th></tr>",
                            "<tr><td>Christopher Nolan</td><td>4</td></tr>",
                            "<tr><td>Bong Joon-ho</td><td>3</td></tr>",
                            "<tr><td>Andrew Stanton</td><td>2</td></tr>",
                            "<tr><td>Steven Spielberg</td><td>2</td></tr>",
                            "<tr><td>Damien Chazelle</td><td>2</td></tr>",
                            "<tr><td>Rich Moore</td><td>2</td></tr>",
                            "<tr><td>Park Chan-wook</td><td>2</td></tr>",
                            "<tr><td>Matthew Vaughn</td><td>2</td></tr>",
                            "<tr><td>Chris Columbus</td><td>2</td></tr>",
                            "</table>"
                        ]
                    }
                }
            ],
            "execution_count": 368
        },
        {
            "cell_type": "markdown",
            "source": [
                "I'm not surprised to see **Christopher Nolan** and **Bong Joon-ho**, two of my favorite directors, as frequent appearances in my top films. But which directors have I actually given the highest ratings?"
            ],
            "metadata": {
                "language": "sql",
                "azdata_cell_guid": "d2a68877-968b-42a0-8182-2c8a25d32018"
            },
            "attachments": {}
        },
        {
            "cell_type": "code",
            "source": [
                "-- highest rated directors that have directed at least 2 films I rated\n",
                "SELECT d.director, AVG(my.myrating) avg_rating\n",
                "FROM myratings my JOIN directors d ON my.url_id = d.url_id\n",
                "GROUP BY d.director\n",
                "HAVING COUNT(*) >= 2 AND AVG(my.myrating) >= 4\n",
                "ORDER BY avg_rating DESC;"
            ],
            "metadata": {
                "language": "sql",
                "azdata_cell_guid": "8d4b417c-b76c-446d-803b-8977ba2a7a4c",
                "tags": []
            },
            "outputs": [
                {
                    "output_type": "display_data",
                    "data": {
                        "text/html": "(8 row(s) affected)"
                    },
                    "metadata": {}
                },
                {
                    "output_type": "display_data",
                    "data": {
                        "text/html": "Total execution time: 00:00:00.006"
                    },
                    "metadata": {}
                },
                {
                    "output_type": "execute_result",
                    "metadata": {},
                    "execution_count": 369,
                    "data": {
                        "application/vnd.dataresource+json": {
                            "schema": {
                                "fields": [
                                    {
                                        "name": "director"
                                    },
                                    {
                                        "name": "avg_rating"
                                    }
                                ]
                            },
                            "data": [
                                {
                                    "director": "Damien Chazelle",
                                    "avg_rating": "5"
                                },
                                {
                                    "director": "Matthew Vaughn",
                                    "avg_rating": "4.25"
                                },
                                {
                                    "director": "Bong Joon-ho",
                                    "avg_rating": "4.1"
                                },
                                {
                                    "director": "Andrew Stanton",
                                    "avg_rating": "4"
                                },
                                {
                                    "director": "Chris Columbus",
                                    "avg_rating": "4"
                                },
                                {
                                    "director": "Park Chan-wook",
                                    "avg_rating": "4"
                                },
                                {
                                    "director": "Pierre Coffin",
                                    "avg_rating": "4"
                                },
                                {
                                    "director": "Richard Linklater",
                                    "avg_rating": "4"
                                }
                            ]
                        },
                        "text/html": [
                            "<table>",
                            "<tr><th>director</th><th>avg_rating</th></tr>",
                            "<tr><td>Damien Chazelle</td><td>5</td></tr>",
                            "<tr><td>Matthew Vaughn</td><td>4.25</td></tr>",
                            "<tr><td>Bong Joon-ho</td><td>4.1</td></tr>",
                            "<tr><td>Andrew Stanton</td><td>4</td></tr>",
                            "<tr><td>Chris Columbus</td><td>4</td></tr>",
                            "<tr><td>Park Chan-wook</td><td>4</td></tr>",
                            "<tr><td>Pierre Coffin</td><td>4</td></tr>",
                            "<tr><td>Richard Linklater</td><td>4</td></tr>",
                            "</table>"
                        ]
                    }
                }
            ],
            "execution_count": 369
        },
        {
            "cell_type": "markdown",
            "source": [
                "Even though I've only seen two films by **Damien Chazelle**,  I absolutely loved both. This relation gives me more insight into directors I've consistently rated highly, and in conjunction with the first relation, I can identify directors who I enjoy but whose films I haven't seen too many of, such as **Damien Chazelle** and **Matthew Vaughn**.\n",
                "\n",
                "### **What film genres do I enjoy the most?**\n",
                "\n",
                "To understand which film genres I know I like to watch, I can see which ones appear the most among my favorite and least favorite films:"
            ],
            "metadata": {
                "language": "sql",
                "azdata_cell_guid": "d2ff8e73-fc64-429b-be5e-3d35ce7080e7"
            },
            "attachments": {}
        },
        {
            "cell_type": "code",
            "source": [
                "-- common genres among my favorably rated films\n",
                "SELECT g.genre, COUNT(g.genre) genre_count\n",
                "FROM myratings my JOIN genres g ON my.url_id = g.url_id\n",
                "WHERE my.myrating >= 4\n",
                "GROUP BY g.genre\n",
                "ORDER BY genre_count DESC\n",
                "LIMIT 5;\n",
                "\n",
                "-- common genres among my unfavorably rated films\n",
                "SELECT g.genre, COUNT(g.genre) genre_count\n",
                "FROM myratings my JOIN genres g ON my.url_id = g.url_id\n",
                "WHERE my.myrating <= 2\n",
                "GROUP BY g.genre\n",
                "ORDER BY genre_count DESC\n",
                "LIMIT 5;"
            ],
            "metadata": {
                "language": "sql",
                "azdata_cell_guid": "985ceb70-d965-41d5-8d67-2df746978931",
                "tags": []
            },
            "outputs": [
                {
                    "output_type": "display_data",
                    "data": {
                        "text/html": "(5 row(s) affected)"
                    },
                    "metadata": {}
                },
                {
                    "output_type": "display_data",
                    "data": {
                        "text/html": "(5 row(s) affected)"
                    },
                    "metadata": {}
                },
                {
                    "output_type": "display_data",
                    "data": {
                        "text/html": "Total execution time: 00:00:00.105"
                    },
                    "metadata": {}
                },
                {
                    "output_type": "execute_result",
                    "metadata": {},
                    "execution_count": 370,
                    "data": {
                        "application/vnd.dataresource+json": {
                            "schema": {
                                "fields": [
                                    {
                                        "name": "genre"
                                    },
                                    {
                                        "name": "genre_count"
                                    }
                                ]
                            },
                            "data": [
                                {
                                    "genre": "Drama",
                                    "genre_count": "37"
                                },
                                {
                                    "genre": "Comedy",
                                    "genre_count": "33"
                                },
                                {
                                    "genre": "Adventure",
                                    "genre_count": "32"
                                },
                                {
                                    "genre": "Action",
                                    "genre_count": "24"
                                },
                                {
                                    "genre": "Family",
                                    "genre_count": "21"
                                }
                            ]
                        },
                        "text/html": [
                            "<table>",
                            "<tr><th>genre</th><th>genre_count</th></tr>",
                            "<tr><td>Drama</td><td>37</td></tr>",
                            "<tr><td>Comedy</td><td>33</td></tr>",
                            "<tr><td>Adventure</td><td>32</td></tr>",
                            "<tr><td>Action</td><td>24</td></tr>",
                            "<tr><td>Family</td><td>21</td></tr>",
                            "</table>"
                        ]
                    }
                },
                {
                    "output_type": "execute_result",
                    "metadata": {},
                    "execution_count": 370,
                    "data": {
                        "application/vnd.dataresource+json": {
                            "schema": {
                                "fields": [
                                    {
                                        "name": "genre"
                                    },
                                    {
                                        "name": "genre_count"
                                    }
                                ]
                            },
                            "data": [
                                {
                                    "genre": "Drama",
                                    "genre_count": "13"
                                },
                                {
                                    "genre": "Comedy",
                                    "genre_count": "9"
                                },
                                {
                                    "genre": "Action",
                                    "genre_count": "6"
                                },
                                {
                                    "genre": "Adventure",
                                    "genre_count": "6"
                                },
                                {
                                    "genre": "Fantasy",
                                    "genre_count": "5"
                                }
                            ]
                        },
                        "text/html": [
                            "<table>",
                            "<tr><th>genre</th><th>genre_count</th></tr>",
                            "<tr><td>Drama</td><td>13</td></tr>",
                            "<tr><td>Comedy</td><td>9</td></tr>",
                            "<tr><td>Action</td><td>6</td></tr>",
                            "<tr><td>Adventure</td><td>6</td></tr>",
                            "<tr><td>Fantasy</td><td>5</td></tr>",
                            "</table>"
                        ]
                    }
                }
            ],
            "execution_count": 370
        },
        {
            "cell_type": "markdown",
            "source": [
                "Although I can see that I enjoy the most **Drama** and **Comedy** films, it also looks like I dislike the most **Drama** and **Comedy** films! This may be a symptom of a large number of films just happening to fall in those categories, so instead I'll search for the genres that are **overrepresented** among my favorite and least favorite films, relative to their overall shares among films I've watched."
            ],
            "metadata": {
                "language": "sql",
                "azdata_cell_guid": "7668f923-47af-4395-8a0f-a7f5137cd6d2"
            },
            "attachments": {}
        },
        {
            "cell_type": "code",
            "source": [
                "-- greatest difference from genre average share\n",
                "CREATE OR REPLACE VIEW genre_shares AS\n",
                "    SELECT DISTINCT g.genre, \n",
                "        ROUND((COUNT(g.genre)::NUMERIC / (\n",
                "            SELECT COUNT(*) FROM myratings\n",
                "            )\n",
                "            ), 4) share\n",
                "    FROM myratings my JOIN genres g ON my.url_id = g.url_id\n",
                "    GROUP BY g.genre;\n",
                "\n",
                "-- difference in genre share among highly rated films\n",
                "SELECT gs.genre, (high_rating_share - share) diff_in_share\n",
                "FROM genre_shares gs JOIN (\n",
                "    SELECT DISTINCT g.genre, \n",
                "        ROUND(COUNT(g.genre)::NUMERIC / (\n",
                "            SELECT COUNT(*) \n",
                "            FROM myratings \n",
                "            WHERE myrating >= 4\n",
                "            ), 4) high_rating_share\n",
                "    FROM myratings my JOIN genres g ON my.url_id = g.url_id\n",
                "    WHERE my.myrating >= 4\n",
                "    GROUP BY g.genre) g2 ON gs.genre = g2.genre\n",
                "ORDER BY diff_in_share DESC\n",
                "LIMIT 5;\n",
                "\n",
                "-- difference in genre share among poorly rated films\n",
                "SELECT gs.genre, (high_rating_share - share) diff_in_share\n",
                "FROM genre_shares gs JOIN (\n",
                "    SELECT DISTINCT g.genre, \n",
                "        ROUND((COUNT(g.genre)::NUMERIC / (\n",
                "            SELECT COUNT(*) \n",
                "            FROM myratings \n",
                "            WHERE myrating <= 2)\n",
                "            ), 4) high_rating_share\n",
                "    FROM myratings my JOIN genres g ON my.url_id = g.url_id\n",
                "    WHERE my.myrating <= 2\n",
                "    GROUP BY g.genre) g2 ON gs.genre = g2.genre\n",
                "ORDER BY diff_in_share DESC\n",
                "LIMIT 5;"
            ],
            "metadata": {
                "language": "sql",
                "azdata_cell_guid": "46c2de37-a2ff-4b54-8407-0a13d56a433c",
                "tags": []
            },
            "outputs": [
                {
                    "output_type": "display_data",
                    "data": {
                        "text/html": "CREATE VIEW"
                    },
                    "metadata": {}
                },
                {
                    "output_type": "display_data",
                    "data": {
                        "text/html": "(5 row(s) affected)"
                    },
                    "metadata": {}
                },
                {
                    "output_type": "display_data",
                    "data": {
                        "text/html": "(5 row(s) affected)"
                    },
                    "metadata": {}
                },
                {
                    "output_type": "display_data",
                    "data": {
                        "text/html": "Total execution time: 00:00:00.137"
                    },
                    "metadata": {}
                },
                {
                    "output_type": "execute_result",
                    "metadata": {},
                    "execution_count": 371,
                    "data": {
                        "application/vnd.dataresource+json": {
                            "schema": {
                                "fields": [
                                    {
                                        "name": "genre"
                                    },
                                    {
                                        "name": "diff_in_share"
                                    }
                                ]
                            },
                            "data": [
                                {
                                    "genre": "Adventure",
                                    "diff_in_share": "0.0920"
                                },
                                {
                                    "genre": "Family",
                                    "diff_in_share": "0.0573"
                                },
                                {
                                    "genre": "Comedy",
                                    "diff_in_share": "0.0398"
                                },
                                {
                                    "genre": "Animation",
                                    "diff_in_share": "0.0245"
                                },
                                {
                                    "genre": "Action",
                                    "diff_in_share": "0.0178"
                                }
                            ]
                        },
                        "text/html": [
                            "<table>",
                            "<tr><th>genre</th><th>diff_in_share</th></tr>",
                            "<tr><td>Adventure</td><td>0.0920</td></tr>",
                            "<tr><td>Family</td><td>0.0573</td></tr>",
                            "<tr><td>Comedy</td><td>0.0398</td></tr>",
                            "<tr><td>Animation</td><td>0.0245</td></tr>",
                            "<tr><td>Action</td><td>0.0178</td></tr>",
                            "</table>"
                        ]
                    }
                },
                {
                    "output_type": "execute_result",
                    "metadata": {},
                    "execution_count": 371,
                    "data": {
                        "application/vnd.dataresource+json": {
                            "schema": {
                                "fields": [
                                    {
                                        "name": "genre"
                                    },
                                    {
                                        "name": "diff_in_share"
                                    }
                                ]
                            },
                            "data": [
                                {
                                    "genre": "Fantasy",
                                    "diff_in_share": "0.0987"
                                },
                                {
                                    "genre": "War",
                                    "diff_in_share": "0.0652"
                                },
                                {
                                    "genre": "Horror",
                                    "diff_in_share": "0.0418"
                                },
                                {
                                    "genre": "Western",
                                    "diff_in_share": "0.0327"
                                },
                                {
                                    "genre": "Documentary",
                                    "diff_in_share": "0.0268"
                                }
                            ]
                        },
                        "text/html": [
                            "<table>",
                            "<tr><th>genre</th><th>diff_in_share</th></tr>",
                            "<tr><td>Fantasy</td><td>0.0987</td></tr>",
                            "<tr><td>War</td><td>0.0652</td></tr>",
                            "<tr><td>Horror</td><td>0.0418</td></tr>",
                            "<tr><td>Western</td><td>0.0327</td></tr>",
                            "<tr><td>Documentary</td><td>0.0268</td></tr>",
                            "</table>"
                        ]
                    }
                }
            ],
            "execution_count": 371
        },
        {
            "cell_type": "markdown",
            "source": [
                "The first relation lists Adventure (9.20%), Family (5.73%), and Comedy (3.98%) films as those that appear in my favorably rated films at higher rates than across all my films watched, while the second reveals that Fantasy (9.87%), War (6.52%), and Horror (4.18%) genres are overrepresented. This provides a much clearer forecast: **seek out Adventure films**!\n",
                "\n",
                "### **Which lesser-known studios produce films I enjoy?**"
            ],
            "metadata": {
                "language": "sql",
                "azdata_cell_guid": "c17ad464-f217-466c-9b2e-ada65917c6b1"
            },
            "attachments": {}
        },
        {
            "cell_type": "code",
            "source": [
                "/* highest rated studios behind at least two films I have watched, averaging a rating above \n",
                "4 stars, and with average film rating count on Letterboxd below the average for all my films */\n",
                "SELECT s.studio, ROUND(AVG(my.myrating)::NUMERIC, 2) avg_rating\n",
                "FROM myratings my JOIN studios s ON my.url_id = s.url_id JOIN ratingcount rc ON my.url_id = rc.url_id\n",
                "GROUP BY s.studio\n",
                "HAVING COUNT(*) >= 2 AND AVG(my.myrating) > 4 AND AVG(rc.rating_count) < (SELECT AVG(rating_count) FROM ratingcount)\n",
                "ORDER BY avg_rating DESC, s.studio ASC;"
            ],
            "metadata": {
                "language": "sql",
                "azdata_cell_guid": "c2e8c610-337a-49ba-895d-901d043684fd",
                "tags": []
            },
            "outputs": [
                {
                    "output_type": "display_data",
                    "data": {
                        "text/html": "(4 row(s) affected)"
                    },
                    "metadata": {}
                },
                {
                    "output_type": "display_data",
                    "data": {
                        "text/html": "Total execution time: 00:00:00.033"
                    },
                    "metadata": {}
                },
                {
                    "output_type": "execute_result",
                    "metadata": {},
                    "execution_count": 372,
                    "data": {
                        "application/vnd.dataresource+json": {
                            "schema": {
                                "fields": [
                                    {
                                        "name": "studio"
                                    },
                                    {
                                        "name": "avg_rating"
                                    }
                                ]
                            },
                            "data": [
                                {
                                    "studio": "Cloudy Productions",
                                    "avg_rating": "4.25"
                                },
                                {
                                    "studio": "Marv",
                                    "avg_rating": "4.25"
                                },
                                {
                                    "studio": "Matt Tolmach Productions",
                                    "avg_rating": "4.25"
                                },
                                {
                                    "studio": "RatPac Entertainment",
                                    "avg_rating": "4.25"
                                }
                            ]
                        },
                        "text/html": [
                            "<table>",
                            "<tr><th>studio</th><th>avg_rating</th></tr>",
                            "<tr><td>Cloudy Productions</td><td>4.25</td></tr>",
                            "<tr><td>Marv</td><td>4.25</td></tr>",
                            "<tr><td>Matt Tolmach Productions</td><td>4.25</td></tr>",
                            "<tr><td>RatPac Entertainment</td><td>4.25</td></tr>",
                            "</table>"
                        ]
                    }
                }
            ],
            "execution_count": 372
        },
        {
            "cell_type": "markdown",
            "source": [
                "This relation displays film studios that I've rated multiple films for, average over four stars in my ratings, and have average film rating counts on Letterboxd below the average of all films I've rated. The four on this list represent smaller studios contributing to films I might want to explore!\n",
                "\n",
                "### **Which decades do I think produced the best films?**"
            ],
            "metadata": {
                "language": "sql",
                "azdata_cell_guid": "a6f1abd0-d970-45e1-b62b-18b4b592689e"
            },
            "attachments": {}
        },
        {
            "cell_type": "code",
            "source": [
                "-- films watched and average rating by release decade\n",
                "SELECT CONCAT(LEFT(year::VARCHAR, 3)::int * 10) decade, \n",
                "    COUNT(*) films_watched, \n",
                "    ROUND(AVG(myrating)::NUMERIC, 2) avg_rating\n",
                "FROM myratings\n",
                "GROUP BY LEFT(year::VARCHAR, 3)::int * 10\n",
                "ORDER BY decade ASC;"
            ],
            "metadata": {
                "language": "sql",
                "azdata_cell_guid": "e9f57ef9-c25c-4029-8cf2-36f3060c0550",
                "tags": []
            },
            "outputs": [
                {
                    "output_type": "display_data",
                    "data": {
                        "text/html": "(7 row(s) affected)"
                    },
                    "metadata": {}
                },
                {
                    "output_type": "display_data",
                    "data": {
                        "text/html": "Total execution time: 00:00:00.005"
                    },
                    "metadata": {}
                },
                {
                    "output_type": "execute_result",
                    "metadata": {},
                    "execution_count": 373,
                    "data": {
                        "application/vnd.dataresource+json": {
                            "schema": {
                                "fields": [
                                    {
                                        "name": "decade"
                                    },
                                    {
                                        "name": "movies_watched"
                                    },
                                    {
                                        "name": "avg_rating"
                                    }
                                ]
                            },
                            "data": [
                                {
                                    "decade": "1950",
                                    "movies_watched": "2",
                                    "avg_rating": "3.75"
                                },
                                {
                                    "decade": "1960",
                                    "movies_watched": "2",
                                    "avg_rating": "1.75"
                                },
                                {
                                    "decade": "1980",
                                    "movies_watched": "5",
                                    "avg_rating": "3.00"
                                },
                                {
                                    "decade": "1990",
                                    "movies_watched": "21",
                                    "avg_rating": "3.29"
                                },
                                {
                                    "decade": "2000",
                                    "movies_watched": "33",
                                    "avg_rating": "3.50"
                                },
                                {
                                    "decade": "2010",
                                    "movies_watched": "80",
                                    "avg_rating": "3.49"
                                },
                                {
                                    "decade": "2020",
                                    "movies_watched": "28",
                                    "avg_rating": "3.54"
                                }
                            ]
                        },
                        "text/html": [
                            "<table>",
                            "<tr><th>decade</th><th>movies_watched</th><th>avg_rating</th></tr>",
                            "<tr><td>1950</td><td>2</td><td>3.75</td></tr>",
                            "<tr><td>1960</td><td>2</td><td>1.75</td></tr>",
                            "<tr><td>1980</td><td>5</td><td>3.00</td></tr>",
                            "<tr><td>1990</td><td>21</td><td>3.29</td></tr>",
                            "<tr><td>2000</td><td>33</td><td>3.50</td></tr>",
                            "<tr><td>2010</td><td>80</td><td>3.49</td></tr>",
                            "<tr><td>2020</td><td>28</td><td>3.54</td></tr>",
                            "</table>"
                        ]
                    }
                }
            ],
            "execution_count": 373
        },
        {
            "cell_type": "markdown",
            "source": [
                "My first takeaway from this relation is that I've watched a high number of films released in the 2010s and its neighboring decades, but **very few from before 1990** — I should watch more films from the 80s and earlier to round out my film taste. That said, this drought may be for good reason: overall, I tend to give films from **2000 and later** higher ratings than those from before. I'll take this as a sign to overcome my bias against older films and find some that I like!\n",
                "\n",
                "### **Do I have any favorite actors?**\n",
                "\n",
                "I've never considered myself someone who follows celebrities closely or considers who the lead actor is when picking a film to watch. But are there actors I gravitate towards without realizing?"
            ],
            "metadata": {
                "language": "sql",
                "azdata_cell_guid": "06259d6a-719a-4604-a271-5c811fb57525"
            },
            "attachments": {}
        },
        {
            "cell_type": "code",
            "source": [
                "-- highest rated actors in at least three films I rated\n",
                "SELECT a.actor, \n",
                "    COUNT(a.actor) appearances, ROUND(AVG(my.myrating)::NUMERIC, 2) avg_rating\n",
                "FROM myratings my JOIN actors a ON my.url_id = a.url_id\n",
                "GROUP BY a.actor\n",
                "HAVING COUNT(*) >= 3\n",
                "ORDER BY avg_rating DESC\n",
                "LIMIT 10;"
            ],
            "metadata": {
                "language": "sql",
                "azdata_cell_guid": "09ed9a02-8182-4ab7-8328-93ab7ea54278",
                "tags": []
            },
            "outputs": [
                {
                    "output_type": "display_data",
                    "data": {
                        "text/html": "(10 row(s) affected)"
                    },
                    "metadata": {}
                },
                {
                    "output_type": "display_data",
                    "data": {
                        "text/html": "Total execution time: 00:00:00.059"
                    },
                    "metadata": {}
                },
                {
                    "output_type": "execute_result",
                    "metadata": {},
                    "execution_count": 374,
                    "data": {
                        "application/vnd.dataresource+json": {
                            "schema": {
                                "fields": [
                                    {
                                        "name": "actor"
                                    },
                                    {
                                        "name": "appearances"
                                    },
                                    {
                                        "name": "avg_rating"
                                    }
                                ]
                            },
                            "data": [
                                {
                                    "actor": "Joseph Oliveira",
                                    "appearances": "3",
                                    "avg_rating": "4.67"
                                },
                                {
                                    "actor": "Jenny Slate",
                                    "appearances": "3",
                                    "avg_rating": "4.50"
                                },
                                {
                                    "actor": "Lee Jung-eun",
                                    "appearances": "3",
                                    "avg_rating": "4.50"
                                },
                                {
                                    "actor": "Choi Woo-shik",
                                    "appearances": "3",
                                    "avg_rating": "4.33"
                                },
                                {
                                    "actor": "Colin Firth",
                                    "appearances": "3",
                                    "avg_rating": "4.33"
                                },
                                {
                                    "actor": "Ahn Seong-bong",
                                    "appearances": "3",
                                    "avg_rating": "4.33"
                                },
                                {
                                    "actor": "Lee Ji-hye",
                                    "appearances": "3",
                                    "avg_rating": "4.33"
                                },
                                {
                                    "actor": "Yuri Lowenthal",
                                    "appearances": "3",
                                    "avg_rating": "4.33"
                                },
                                {
                                    "actor": "J.K. Simmons",
                                    "appearances": "5",
                                    "avg_rating": "4.30"
                                },
                                {
                                    "actor": "David Cowgill",
                                    "appearances": "4",
                                    "avg_rating": "4.25"
                                }
                            ]
                        },
                        "text/html": [
                            "<table>",
                            "<tr><th>actor</th><th>appearances</th><th>avg_rating</th></tr>",
                            "<tr><td>Joseph Oliveira</td><td>3</td><td>4.67</td></tr>",
                            "<tr><td>Jenny Slate</td><td>3</td><td>4.50</td></tr>",
                            "<tr><td>Lee Jung-eun</td><td>3</td><td>4.50</td></tr>",
                            "<tr><td>Choi Woo-shik</td><td>3</td><td>4.33</td></tr>",
                            "<tr><td>Colin Firth</td><td>3</td><td>4.33</td></tr>",
                            "<tr><td>Ahn Seong-bong</td><td>3</td><td>4.33</td></tr>",
                            "<tr><td>Lee Ji-hye</td><td>3</td><td>4.33</td></tr>",
                            "<tr><td>Yuri Lowenthal</td><td>3</td><td>4.33</td></tr>",
                            "<tr><td>J.K. Simmons</td><td>5</td><td>4.30</td></tr>",
                            "<tr><td>David Cowgill</td><td>4</td><td>4.25</td></tr>",
                            "</table>"
                        ]
                    }
                }
            ],
            "execution_count": 374
        },
        {
            "cell_type": "markdown",
            "source": [
                "On this list are some familiar names like **Jenny Slate**, **Colin Firth**, and **J.K. Simmons** — now I have a few names to search for other films they've been a part of. <span style=\"font-family: -apple-system, BlinkMacSystemFont, sans-serif; color: var(--vscode-foreground);\">But who are </span> **Joseph Oliveira** <span style=\"font-family: -apple-system, BlinkMacSystemFont, sans-serif; color: var(--vscode-foreground);\">(the top of my list), </span> **Lee Jung-eun** <span style=\"font-family: -apple-system, BlinkMacSystemFont, sans-serif; color: var(--vscode-foreground);\">(in films with an impressive 4.5 average rating), and </span> **David Cowgill** <span style=\"font-family: -apple-system, BlinkMacSystemFont, sans-serif; color: var(--vscode-foreground);\">(with four appearances)?</span>\n",
                "\n",
                "Google tells me that Oliveira is a prolific extra in Christopher Nolan and MCU films, Lee is an actress who frequently collaborates with Bong Joon-ho, and David Cowgill is a voice actor for numerous animated films. Props to them for contributing semi-anonymously to the projects I love!\n",
                "\n",
                "### **Do I have a preference for long vs. short films?**"
            ],
            "metadata": {
                "language": "sql",
                "azdata_cell_guid": "a7cccdd3-1a57-421b-b3b9-b32340c55b80"
            },
            "attachments": {}
        },
        {
            "cell_type": "code",
            "source": [
                "-- directors producing long films and my average rating of them\n",
                "SELECT d.director, ROUND(AVG(l.length)::NUMERIC, 2) avg_length, \n",
                "    ROUND(AVG(my.myrating)::NUMERIC, 2) avg_rating\n",
                "FROM directors d JOIN length l ON d.url_id = l.url_id JOIN myratings my ON l.url_id = my.url_id\n",
                "GROUP BY d.director\n",
                "HAVING COUNT(d.*) >= 2\n",
                "ORDER BY avg_length DESC\n",
                "LIMIT 5;\n",
                "\n",
                "-- directors producing short films and my average rating of them\n",
                "SELECT d.director, ROUND(AVG(l.length)::NUMERIC, 2) avg_length, \n",
                "    ROUND(AVG(my.myrating)::NUMERIC, 2) avg_rating\n",
                "FROM directors d JOIN length l ON d.url_id = l.url_id JOIN myratings my ON l.url_id = my.url_id\n",
                "GROUP BY d.director\n",
                "HAVING COUNT(d.*) >= 2\n",
                "ORDER BY avg_length ASC\n",
                "LIMIT 5;"
            ],
            "metadata": {
                "language": "sql",
                "azdata_cell_guid": "1c7c7943-8085-4451-bc25-863f4d977177",
                "tags": []
            },
            "outputs": [
                {
                    "output_type": "display_data",
                    "data": {
                        "text/html": "(5 row(s) affected)"
                    },
                    "metadata": {}
                },
                {
                    "output_type": "display_data",
                    "data": {
                        "text/html": "(5 row(s) affected)"
                    },
                    "metadata": {}
                },
                {
                    "output_type": "display_data",
                    "data": {
                        "text/html": "Total execution time: 00:00:00.088"
                    },
                    "metadata": {}
                },
                {
                    "output_type": "execute_result",
                    "metadata": {},
                    "execution_count": 375,
                    "data": {
                        "application/vnd.dataresource+json": {
                            "schema": {
                                "fields": [
                                    {
                                        "name": "director"
                                    },
                                    {
                                        "name": "avg_length"
                                    },
                                    {
                                        "name": "avg_rating"
                                    }
                                ]
                            },
                            "data": [
                                {
                                    "director": "Joe Russo",
                                    "avg_length": "159.00",
                                    "avg_rating": "3.50"
                                },
                                {
                                    "director": "Anthony Russo",
                                    "avg_length": "159.00",
                                    "avg_rating": "3.50"
                                },
                                {
                                    "director": "Christopher Nolan",
                                    "avg_length": "146.11",
                                    "avg_rating": "3.28"
                                },
                                {
                                    "director": "Jon Watts",
                                    "avg_length": "140.50",
                                    "avg_rating": "3.50"
                                },
                                {
                                    "director": "Steven Spielberg",
                                    "avg_length": "137.00",
                                    "avg_rating": "3.38"
                                }
                            ]
                        },
                        "text/html": [
                            "<table>",
                            "<tr><th>director</th><th>avg_length</th><th>avg_rating</th></tr>",
                            "<tr><td>Joe Russo</td><td>159.00</td><td>3.50</td></tr>",
                            "<tr><td>Anthony Russo</td><td>159.00</td><td>3.50</td></tr>",
                            "<tr><td>Christopher Nolan</td><td>146.11</td><td>3.28</td></tr>",
                            "<tr><td>Jon Watts</td><td>140.50</td><td>3.50</td></tr>",
                            "<tr><td>Steven Spielberg</td><td>137.00</td><td>3.38</td></tr>",
                            "</table>"
                        ]
                    }
                },
                {
                    "output_type": "execute_result",
                    "metadata": {},
                    "execution_count": 375,
                    "data": {
                        "application/vnd.dataresource+json": {
                            "schema": {
                                "fields": [
                                    {
                                        "name": "director"
                                    },
                                    {
                                        "name": "avg_length"
                                    },
                                    {
                                        "name": "avg_rating"
                                    }
                                ]
                            },
                            "data": [
                                {
                                    "director": "Conrad Vernon",
                                    "avg_length": "91.00",
                                    "avg_rating": "2.25"
                                },
                                {
                                    "director": "Pierre Coffin",
                                    "avg_length": "94.50",
                                    "avg_rating": "4.00"
                                },
                                {
                                    "director": "Julia Solomonoff",
                                    "avg_length": "95.00",
                                    "avg_rating": "2.75"
                                },
                                {
                                    "director": "Richard Linklater",
                                    "avg_length": "96.67",
                                    "avg_rating": "4.00"
                                },
                                {
                                    "director": "Andrew Stanton",
                                    "avg_length": "97.50",
                                    "avg_rating": "4.00"
                                }
                            ]
                        },
                        "text/html": [
                            "<table>",
                            "<tr><th>director</th><th>avg_length</th><th>avg_rating</th></tr>",
                            "<tr><td>Conrad Vernon</td><td>91.00</td><td>2.25</td></tr>",
                            "<tr><td>Pierre Coffin</td><td>94.50</td><td>4.00</td></tr>",
                            "<tr><td>Julia Solomonoff</td><td>95.00</td><td>2.75</td></tr>",
                            "<tr><td>Richard Linklater</td><td>96.67</td><td>4.00</td></tr>",
                            "<tr><td>Andrew Stanton</td><td>97.50</td><td>4.00</td></tr>",
                            "</table>"
                        ]
                    }
                }
            ],
            "execution_count": 375
        },
        {
            "cell_type": "markdown",
            "source": [
                "From these relations, it's hard to tell if I rate directors of longer films higher or lower than directors of shorter films — I do notice that the variability in my ratings is greater for the latter.\n",
                "\n",
                "I'll perform another linear regression of my ratings on film length in minutes, and a t-test of the coefficient on the length coefficient to determine if it significantly boosts or hurts my evaluations:"
            ],
            "metadata": {
                "language": "sql",
                "azdata_cell_guid": "9e9778a1-339d-4d43-b762-880ad3656c96"
            },
            "attachments": {}
        },
        {
            "cell_type": "code",
            "source": [
                "-- linear regression of my film ratings on film length\n",
                "SELECT ROUND(REGR_SLOPE(my.myrating, l.length)::NUMERIC, 2) slope, \n",
                "    ROUND(REGR_INTERCEPT(my.myrating, l.length)::NUMERIC, 2) intercept\n",
                "FROM myratings my JOIN length l ON l.url_id = my.url_id;\n",
                "\n",
                "-- t-test for significance of length coefficient, assuming normal sampling distribution given n >= 30\n",
                "WITH regression (beta, alpha, sxx) AS (\n",
                "    SELECT REGR_SLOPE(my.myrating, l.length), \n",
                "        REGR_INTERCEPT(my.myrating, l.length),\n",
                "        REGR_SXX(my.myrating, l.length)\n",
                "    FROM myratings my JOIN length l ON l.url_id = my.url_id\n",
                "    ),\n",
                "mean_squared_error (mse) AS (\n",
                "    SELECT SUM(rss.res_sum_squares) / (COUNT(*) - 2)\n",
                "    FROM (\n",
                "        SELECT POWER(my.myrating - (r.beta * l.length + r.alpha), 2) res_sum_squares\n",
                "        FROM myratings my JOIN length l ON l.url_id = my.url_id, regression r\n",
                "        ) rss\n",
                "    )\n",
                "SELECT ROUND((r.beta / SQRT(m.mse / r.sxx))::NUMERIC, 2) t_stat\n",
                "FROM regression r, mean_squared_error m\n",
                "GROUP BY r.beta, m.mse, r.sxx;"
            ],
            "metadata": {
                "language": "sql",
                "azdata_cell_guid": "e7ee0694-1a5b-451e-8f51-c6e1578b60bf",
                "tags": []
            },
            "outputs": [
                {
                    "output_type": "display_data",
                    "data": {
                        "text/html": "(1 row(s) affected)"
                    },
                    "metadata": {}
                },
                {
                    "output_type": "display_data",
                    "data": {
                        "text/html": "(1 row(s) affected)"
                    },
                    "metadata": {}
                },
                {
                    "output_type": "display_data",
                    "data": {
                        "text/html": "Total execution time: 00:00:00.042"
                    },
                    "metadata": {}
                },
                {
                    "output_type": "execute_result",
                    "metadata": {},
                    "execution_count": 376,
                    "data": {
                        "application/vnd.dataresource+json": {
                            "schema": {
                                "fields": [
                                    {
                                        "name": "slope"
                                    },
                                    {
                                        "name": "intercept"
                                    }
                                ]
                            },
                            "data": [
                                {
                                    "slope": "0.00",
                                    "intercept": "3.42"
                                }
                            ]
                        },
                        "text/html": [
                            "<table>",
                            "<tr><th>slope</th><th>intercept</th></tr>",
                            "<tr><td>0.00</td><td>3.42</td></tr>",
                            "</table>"
                        ]
                    }
                },
                {
                    "output_type": "execute_result",
                    "metadata": {},
                    "execution_count": 376,
                    "data": {
                        "application/vnd.dataresource+json": {
                            "schema": {
                                "fields": [
                                    {
                                        "name": "t_stat"
                                    }
                                ]
                            },
                            "data": [
                                {
                                    "t_stat": "0.10573921165047181"
                                }
                            ]
                        },
                        "text/html": [
                            "<table>",
                            "<tr><th>t_stat</th></tr>",
                            "<tr><td>0.10573921165047181</td></tr>",
                            "</table>"
                        ]
                    }
                }
            ],
            "execution_count": 376
        },
        {
            "cell_type": "markdown",
            "source": [
                "Contrary to the last regression, the t-statistic of 0.11 is not even close to the 1.96 threshold for significance at alpha = 0.05. There is no evidence that my ratings depend on how long or short a film it. Even if the effect was significant, a 30 minute difference would be expected to raise my review by only 0.0057 stars.\n",
                "\n",
                "**Conclusion:** I can enjoy both longer and shorter films!"
            ],
            "metadata": {
                "language": "sql",
                "azdata_cell_guid": "d6d3fb5b-26ae-463f-9cda-16b7a9481bfc"
            },
            "attachments": {}
        },
        {
            "cell_type": "markdown",
            "source": [
                "## **Final Thoughts**\n",
                "\n",
                "From this data analysis, I've answered my three questions soundly:\n",
                "\n",
                "**1\\. Am I rating films regularly and reliably?**\n",
                "\n",
                "Overall, yes! I had a few droughts this year where I didn't watch films as frequently as I wanted to, but my ratings are relatively spread out, and I concluded that there's no reason to believe my ratings deviated in fairness over time.\n",
                "\n",
                "**2\\. How do my film ratings compare with the Letterboxd community at large?**\n",
                "\n",
                "I tend to be a little more critical than the average Letterboxd user, but within the realm of typical variation in film taste. I rated many family films much higher than average, and <span style=\"font-family: -apple-system, BlinkMacSystemFont, sans-serif; color: var(--vscode-foreground);\">arthouse films much lower than average. Even so, my favorite films are relatively mainstream.</span>\n",
                "\n",
                "**3\\. Can my ratings reveal characteristics of films that I should seek out — or avoid — when finding new films to watch?**\n",
                "\n",
                "I reaffirmed my love for directors Damien Chazelle, Bong Joon-ho, and Christopher Nolan, but I revealed several less popular directors, studios, and actors who I plan to watch more of in the future. I tend to enjoy Adventure and Family films, and dislike Fantasy and War films. Lastly, I can get behind both longer films and shorter films without problem.\n"
            ],
            "metadata": {
                "language": "sql",
                "azdata_cell_guid": "a561c4a6-4929-4fa0-8131-db27c598a4b4"
            },
            "attachments": {}
        }
    ]
}
